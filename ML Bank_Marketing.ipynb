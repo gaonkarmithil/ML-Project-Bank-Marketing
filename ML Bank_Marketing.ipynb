{
 "cells": [
  {
   "cell_type": "code",
   "execution_count": 1,
   "id": "03857451-d413-4d5a-b4d8-be921c84fec7",
   "metadata": {},
   "outputs": [],
   "source": [
    "#Bank Marketing"
   ]
  },
  {
   "cell_type": "code",
   "execution_count": 2,
   "id": "2c0803a5-c0b8-441e-be9a-ec008f61f25c",
   "metadata": {},
   "outputs": [],
   "source": [
    "import pandas as pd\n",
    "import numpy as np\n",
    "import matplotlib.pyplot as plt\n",
    "import seaborn as sns \n",
    "import warnings\n",
    "warnings.filterwarnings(\"ignore\")"
   ]
  },
  {
   "cell_type": "code",
   "execution_count": 3,
   "id": "284360d5-76e7-4ef1-916b-4ae4c8e3cd59",
   "metadata": {},
   "outputs": [
    {
     "data": {
      "text/html": [
       "<div>\n",
       "<style scoped>\n",
       "    .dataframe tbody tr th:only-of-type {\n",
       "        vertical-align: middle;\n",
       "    }\n",
       "\n",
       "    .dataframe tbody tr th {\n",
       "        vertical-align: top;\n",
       "    }\n",
       "\n",
       "    .dataframe thead th {\n",
       "        text-align: right;\n",
       "    }\n",
       "</style>\n",
       "<table border=\"1\" class=\"dataframe\">\n",
       "  <thead>\n",
       "    <tr style=\"text-align: right;\">\n",
       "      <th></th>\n",
       "      <th>age</th>\n",
       "      <th>job</th>\n",
       "      <th>marital</th>\n",
       "      <th>education</th>\n",
       "      <th>default</th>\n",
       "      <th>balance</th>\n",
       "      <th>housing</th>\n",
       "      <th>loan</th>\n",
       "      <th>contact</th>\n",
       "      <th>day</th>\n",
       "      <th>month</th>\n",
       "      <th>duration</th>\n",
       "      <th>campaign</th>\n",
       "      <th>pdays</th>\n",
       "      <th>previous</th>\n",
       "      <th>poutcome</th>\n",
       "      <th>deposit</th>\n",
       "    </tr>\n",
       "  </thead>\n",
       "  <tbody>\n",
       "    <tr>\n",
       "      <th>0</th>\n",
       "      <td>59</td>\n",
       "      <td>0</td>\n",
       "      <td>1</td>\n",
       "      <td>1</td>\n",
       "      <td>0</td>\n",
       "      <td>2343</td>\n",
       "      <td>1</td>\n",
       "      <td>0</td>\n",
       "      <td>2</td>\n",
       "      <td>5</td>\n",
       "      <td>8</td>\n",
       "      <td>1042</td>\n",
       "      <td>1</td>\n",
       "      <td>-1</td>\n",
       "      <td>0</td>\n",
       "      <td>3</td>\n",
       "      <td>1</td>\n",
       "    </tr>\n",
       "    <tr>\n",
       "      <th>1</th>\n",
       "      <td>56</td>\n",
       "      <td>0</td>\n",
       "      <td>1</td>\n",
       "      <td>1</td>\n",
       "      <td>0</td>\n",
       "      <td>45</td>\n",
       "      <td>0</td>\n",
       "      <td>0</td>\n",
       "      <td>2</td>\n",
       "      <td>5</td>\n",
       "      <td>8</td>\n",
       "      <td>1467</td>\n",
       "      <td>1</td>\n",
       "      <td>-1</td>\n",
       "      <td>0</td>\n",
       "      <td>3</td>\n",
       "      <td>1</td>\n",
       "    </tr>\n",
       "    <tr>\n",
       "      <th>2</th>\n",
       "      <td>41</td>\n",
       "      <td>9</td>\n",
       "      <td>1</td>\n",
       "      <td>1</td>\n",
       "      <td>0</td>\n",
       "      <td>1270</td>\n",
       "      <td>1</td>\n",
       "      <td>0</td>\n",
       "      <td>2</td>\n",
       "      <td>5</td>\n",
       "      <td>8</td>\n",
       "      <td>1389</td>\n",
       "      <td>1</td>\n",
       "      <td>-1</td>\n",
       "      <td>0</td>\n",
       "      <td>3</td>\n",
       "      <td>1</td>\n",
       "    </tr>\n",
       "    <tr>\n",
       "      <th>3</th>\n",
       "      <td>55</td>\n",
       "      <td>7</td>\n",
       "      <td>1</td>\n",
       "      <td>1</td>\n",
       "      <td>0</td>\n",
       "      <td>2476</td>\n",
       "      <td>1</td>\n",
       "      <td>0</td>\n",
       "      <td>2</td>\n",
       "      <td>5</td>\n",
       "      <td>8</td>\n",
       "      <td>579</td>\n",
       "      <td>1</td>\n",
       "      <td>-1</td>\n",
       "      <td>0</td>\n",
       "      <td>3</td>\n",
       "      <td>1</td>\n",
       "    </tr>\n",
       "    <tr>\n",
       "      <th>4</th>\n",
       "      <td>54</td>\n",
       "      <td>0</td>\n",
       "      <td>1</td>\n",
       "      <td>2</td>\n",
       "      <td>0</td>\n",
       "      <td>184</td>\n",
       "      <td>0</td>\n",
       "      <td>0</td>\n",
       "      <td>2</td>\n",
       "      <td>5</td>\n",
       "      <td>8</td>\n",
       "      <td>673</td>\n",
       "      <td>2</td>\n",
       "      <td>-1</td>\n",
       "      <td>0</td>\n",
       "      <td>3</td>\n",
       "      <td>1</td>\n",
       "    </tr>\n",
       "  </tbody>\n",
       "</table>\n",
       "</div>"
      ],
      "text/plain": [
       "   age  job  marital  education  default  balance  housing  loan  contact  \\\n",
       "0   59    0        1          1        0     2343        1     0        2   \n",
       "1   56    0        1          1        0       45        0     0        2   \n",
       "2   41    9        1          1        0     1270        1     0        2   \n",
       "3   55    7        1          1        0     2476        1     0        2   \n",
       "4   54    0        1          2        0      184        0     0        2   \n",
       "\n",
       "   day  month  duration  campaign  pdays  previous  poutcome  deposit  \n",
       "0    5      8      1042         1     -1         0         3        1  \n",
       "1    5      8      1467         1     -1         0         3        1  \n",
       "2    5      8      1389         1     -1         0         3        1  \n",
       "3    5      8       579         1     -1         0         3        1  \n",
       "4    5      8       673         2     -1         0         3        1  "
      ]
     },
     "execution_count": 3,
     "metadata": {},
     "output_type": "execute_result"
    }
   ],
   "source": [
    "#To load the dataset\n",
    "df=pd.read_csv(\"bank.csv\")\n",
    "#To reterive the first five rows of data\n",
    "df.head()"
   ]
  },
  {
   "cell_type": "code",
   "execution_count": 4,
   "id": "81354dca-028d-4888-9852-6976fe94c819",
   "metadata": {},
   "outputs": [
    {
     "data": {
      "text/plain": [
       "(11162, 17)"
      ]
     },
     "execution_count": 4,
     "metadata": {},
     "output_type": "execute_result"
    }
   ],
   "source": [
    "#To check the how many rows ans columns are there in dataset\n",
    "df.shape"
   ]
  },
  {
   "cell_type": "code",
   "execution_count": 5,
   "id": "b4a2d3d6-3461-4fa4-b149-d4e609c6299e",
   "metadata": {},
   "outputs": [
    {
     "data": {
      "text/plain": [
       "array(['age', 'job', 'marital', 'education', 'default', 'balance',\n",
       "       'housing', 'loan', 'contact', 'day', 'month', 'duration',\n",
       "       'campaign', 'pdays', 'previous', 'poutcome', 'deposit'],\n",
       "      dtype=object)"
      ]
     },
     "execution_count": 5,
     "metadata": {},
     "output_type": "execute_result"
    }
   ],
   "source": [
    "#to check all columns\n",
    "df.columns.values"
   ]
  },
  {
   "cell_type": "markdown",
   "id": "5385020f-5c03-4b10-bbc0-ce163097dd65",
   "metadata": {},
   "source": [
    "Apply the Cleaning process"
   ]
  },
  {
   "cell_type": "code",
   "execution_count": 6,
   "id": "5d239470-f514-4212-bb20-5841e4c76ec4",
   "metadata": {},
   "outputs": [
    {
     "data": {
      "text/plain": [
       "age          0\n",
       "job          0\n",
       "marital      0\n",
       "education    0\n",
       "default      0\n",
       "balance      0\n",
       "housing      0\n",
       "loan         0\n",
       "contact      0\n",
       "day          0\n",
       "month        0\n",
       "duration     0\n",
       "campaign     0\n",
       "pdays        0\n",
       "previous     0\n",
       "poutcome     0\n",
       "deposit      0\n",
       "dtype: int64"
      ]
     },
     "execution_count": 6,
     "metadata": {},
     "output_type": "execute_result"
    }
   ],
   "source": [
    "#Step 1: To check the null values \n",
    "df.isnull().sum()"
   ]
  },
  {
   "cell_type": "markdown",
   "id": "c14686a8-8aa3-41cb-bf11-45f6efb6715e",
   "metadata": {},
   "source": [
    "There is no null values in Bank dataset"
   ]
  },
  {
   "cell_type": "code",
   "execution_count": 7,
   "id": "f3140c84-6c62-4fc3-9bde-1c0468e47416",
   "metadata": {},
   "outputs": [
    {
     "data": {
      "image/png": "[encoded data removed]",
      "text/plain": [
       "<Figure size 640x480 with 2 Axes>"
      ]
     },
     "metadata": {},
     "output_type": "display_data"
    }
   ],
   "source": [
    "# Visulize the null values\n",
    "sns.heatmap(df.isnull())\n",
    "plt.show()"
   ]
  },
  {
   "cell_type": "code",
   "execution_count": 8,
   "id": "fba30861-802b-4507-adcf-1f84ef0cd055",
   "metadata": {},
   "outputs": [
    {
     "data": {
      "text/plain": [
       "age          int64\n",
       "job          int64\n",
       "marital      int64\n",
       "education    int64\n",
       "default      int64\n",
       "balance      int64\n",
       "housing      int64\n",
       "loan         int64\n",
       "contact      int64\n",
       "day          int64\n",
       "month        int64\n",
       "duration     int64\n",
       "campaign     int64\n",
       "pdays        int64\n",
       "previous     int64\n",
       "poutcome     int64\n",
       "deposit      int64\n",
       "dtype: object"
      ]
     },
     "execution_count": 8,
     "metadata": {},
     "output_type": "execute_result"
    }
   ],
   "source": [
    "#Step 4: To check the datatypes\n",
    "df.dtypes"
   ]
  },
  {
   "cell_type": "code",
   "execution_count": 9,
   "id": "4d2f6633-ae9b-479e-868e-b6efad92c60b",
   "metadata": {},
   "outputs": [
    {
     "data": {
      "text/plain": [
       "0"
      ]
     },
     "execution_count": 9,
     "metadata": {},
     "output_type": "execute_result"
    }
   ],
   "source": [
    "#Step 5: To check the duplicates values in dataset\n",
    "df.duplicated().sum()"
   ]
  },
  {
   "cell_type": "markdown",
   "id": "923ac195-1894-48bf-a67c-c304a64f9d62",
   "metadata": {},
   "source": [
    "There is no duplicates values in bank dataset"
   ]
  },
  {
   "cell_type": "code",
   "execution_count": 10,
   "id": "6cedde5b-6530-4bd1-95b9-4bad4b91c41c",
   "metadata": {},
   "outputs": [
    {
     "data": {
      "image/png": "[encoded data removed]",
      "text/plain": [
       "<Figure size 400x400 with 1 Axes>"
      ]
     },
     "metadata": {},
     "output_type": "display_data"
    },
    {
     "name": "stdout",
     "output_type": "stream",
     "text": [
      "deposit\n",
      "0    5873\n",
      "1    5289\n",
      "Name: count, dtype: int64\n"
     ]
    }
   ],
   "source": [
    "#Data visulization \n",
    "#How many samples of 1's and 0's in output column\n",
    "#Deposit Means People Recommed to Subscribe/Open The A/c\n",
    "#1 Means:-True/Yes People said To Subscribe\n",
    "#0 Means:-False/No People Said Not To Subscribe\n",
    "plt.figure(figsize=(4,4))\n",
    "f=df[\"deposit\"].value_counts()\n",
    "sns.countplot(data=df,x='deposit')\n",
    "plt.yticks(f)\n",
    "plt.show()\n",
    "print(f)"
   ]
  },
  {
   "cell_type": "code",
   "execution_count": 11,
   "id": "24fb5467-473b-46db-9547-c7c1a0059096",
   "metadata": {},
   "outputs": [],
   "source": [
    "#Sperate the input and output from given dataframe df\n",
    "X=df.drop('deposit',axis=1) #input 2D\n",
    "Y=df[\"deposit\"] #output 1D"
   ]
  },
  {
   "cell_type": "code",
   "execution_count": 12,
   "id": "bb92d059-1e52-400b-ad14-601e19fdd3eb",
   "metadata": {},
   "outputs": [
    {
     "data": {
      "text/html": [
       "<div>\n",
       "<style scoped>\n",
       "    .dataframe tbody tr th:only-of-type {\n",
       "        vertical-align: middle;\n",
       "    }\n",
       "\n",
       "    .dataframe tbody tr th {\n",
       "        vertical-align: top;\n",
       "    }\n",
       "\n",
       "    .dataframe thead th {\n",
       "        text-align: right;\n",
       "    }\n",
       "</style>\n",
       "<table border=\"1\" class=\"dataframe\">\n",
       "  <thead>\n",
       "    <tr style=\"text-align: right;\">\n",
       "      <th></th>\n",
       "      <th>age</th>\n",
       "      <th>job</th>\n",
       "      <th>marital</th>\n",
       "      <th>education</th>\n",
       "      <th>default</th>\n",
       "      <th>balance</th>\n",
       "      <th>housing</th>\n",
       "      <th>loan</th>\n",
       "      <th>contact</th>\n",
       "      <th>day</th>\n",
       "      <th>month</th>\n",
       "      <th>duration</th>\n",
       "      <th>campaign</th>\n",
       "      <th>pdays</th>\n",
       "      <th>previous</th>\n",
       "      <th>poutcome</th>\n",
       "    </tr>\n",
       "  </thead>\n",
       "  <tbody>\n",
       "    <tr>\n",
       "      <th>0</th>\n",
       "      <td>59</td>\n",
       "      <td>0</td>\n",
       "      <td>1</td>\n",
       "      <td>1</td>\n",
       "      <td>0</td>\n",
       "      <td>2343</td>\n",
       "      <td>1</td>\n",
       "      <td>0</td>\n",
       "      <td>2</td>\n",
       "      <td>5</td>\n",
       "      <td>8</td>\n",
       "      <td>1042</td>\n",
       "      <td>1</td>\n",
       "      <td>-1</td>\n",
       "      <td>0</td>\n",
       "      <td>3</td>\n",
       "    </tr>\n",
       "    <tr>\n",
       "      <th>1</th>\n",
       "      <td>56</td>\n",
       "      <td>0</td>\n",
       "      <td>1</td>\n",
       "      <td>1</td>\n",
       "      <td>0</td>\n",
       "      <td>45</td>\n",
       "      <td>0</td>\n",
       "      <td>0</td>\n",
       "      <td>2</td>\n",
       "      <td>5</td>\n",
       "      <td>8</td>\n",
       "      <td>1467</td>\n",
       "      <td>1</td>\n",
       "      <td>-1</td>\n",
       "      <td>0</td>\n",
       "      <td>3</td>\n",
       "    </tr>\n",
       "  </tbody>\n",
       "</table>\n",
       "</div>"
      ],
      "text/plain": [
       "   age  job  marital  education  default  balance  housing  loan  contact  \\\n",
       "0   59    0        1          1        0     2343        1     0        2   \n",
       "1   56    0        1          1        0       45        0     0        2   \n",
       "\n",
       "   day  month  duration  campaign  pdays  previous  poutcome  \n",
       "0    5      8      1042         1     -1         0         3  \n",
       "1    5      8      1467         1     -1         0         3  "
      ]
     },
     "execution_count": 12,
     "metadata": {},
     "output_type": "execute_result"
    }
   ],
   "source": [
    "X.head(2)"
   ]
  },
  {
   "cell_type": "code",
   "execution_count": 13,
   "id": "843c73c3-ae73-441d-b6a9-0cd8ef6249c7",
   "metadata": {},
   "outputs": [
    {
     "data": {
      "text/plain": [
       "0    1\n",
       "1    1\n",
       "2    1\n",
       "3    1\n",
       "4    1\n",
       "Name: deposit, dtype: int64"
      ]
     },
     "execution_count": 13,
     "metadata": {},
     "output_type": "execute_result"
    }
   ],
   "source": [
    "Y.head()"
   ]
  },
  {
   "cell_type": "code",
   "execution_count": 14,
   "id": "e9c22668-5785-4b0c-a3fd-ef5f50e96a63",
   "metadata": {},
   "outputs": [
    {
     "data": {
      "text/plain": [
       "((11162, 16), (11162,))"
      ]
     },
     "execution_count": 14,
     "metadata": {},
     "output_type": "execute_result"
    }
   ],
   "source": [
    "#to check the shape of DataFarame \n",
    "X.shape,Y.shape"
   ]
  },
  {
   "cell_type": "code",
   "execution_count": 15,
   "id": "5758ba8f-3b5e-4ab2-ae92-2ebf66f7e1bf",
   "metadata": {},
   "outputs": [],
   "source": [
    "#Train_Test_Split : 70% and 30%\n",
    "from sklearn.model_selection import train_test_split\n"
   ]
  },
  {
   "cell_type": "code",
   "execution_count": 16,
   "id": "7fc0f760-96bc-492c-991e-6eea506182e4",
   "metadata": {},
   "outputs": [],
   "source": [
    "X_train,X_test,Y_train,Y_test=train_test_split(X,Y,test_size=0.3,random_state=1)"
   ]
  },
  {
   "cell_type": "code",
   "execution_count": 17,
   "id": "ef04e846-43be-409d-9e08-30b9cd287091",
   "metadata": {},
   "outputs": [
    {
     "data": {
      "text/plain": [
       "((7813, 16), (7813,))"
      ]
     },
     "execution_count": 17,
     "metadata": {},
     "output_type": "execute_result"
    }
   ],
   "source": [
    "X_train.shape,Y_train.shape #to check the rows and columns"
   ]
  },
  {
   "cell_type": "code",
   "execution_count": 18,
   "id": "0bb0adca-d9fa-4262-8d20-987513bddf3c",
   "metadata": {},
   "outputs": [
    {
     "data": {
      "text/plain": [
       "((3349, 16), (3349,))"
      ]
     },
     "execution_count": 18,
     "metadata": {},
     "output_type": "execute_result"
    }
   ],
   "source": [
    "X_test.shape,Y_test.shape #to check the rows and columns"
   ]
  },
  {
   "cell_type": "code",
   "execution_count": 19,
   "id": "2c364ca1-3817-459d-9acc-1f513641164b",
   "metadata": {},
   "outputs": [],
   "source": [
    "#StandardScaler\n",
    "#Apply Scaling on Input Column Of Both X_train and X_test\n",
    "#use StandardScaler Class\n",
    "from sklearn.preprocessing import StandardScaler\n",
    "#Create the object of StandardSacaler\n",
    "ss=StandardScaler()"
   ]
  },
  {
   "cell_type": "code",
   "execution_count": 20,
   "id": "a730b9fb-49ff-402e-883f-b76a6c737c80",
   "metadata": {},
   "outputs": [],
   "source": [
    "#Apply the StandardScaler on training data\n",
    "X_train=ss.fit_transform(X_train) #Training Input\n",
    "X_test=ss.transform(X_test)"
   ]
  },
  {
   "cell_type": "code",
   "execution_count": 21,
   "id": "5a1dc8f1-c0aa-40f4-9c48-5a5657487db6",
   "metadata": {},
   "outputs": [
    {
     "data": {
      "text/plain": [
       "array([[ 2.76552511,  0.15596991, -0.32335267, ..., -0.48203214,\n",
       "        -0.35894691,  0.52287872],\n",
       "       [ 1.16824122, -1.0830671 , -0.32335267, ..., -0.48203214,\n",
       "        -0.35894691,  0.52287872],\n",
       "       [ 1.33637636,  1.39500692, -0.32335267, ..., -0.48203214,\n",
       "        -0.35894691,  0.52287872],\n",
       "       ...,\n",
       "       [-1.18565083, -0.77330785, -0.32335267, ..., -0.48203214,\n",
       "        -0.35894691,  0.52287872],\n",
       "       [-0.00870481, -1.39282635,  1.27358436, ...,  3.07264515,\n",
       "         4.3350541 , -0.47109973],\n",
       "       [-0.42904267, -1.0830671 , -0.32335267, ..., -0.48203214,\n",
       "        -0.35894691,  0.52287872]])"
      ]
     },
     "execution_count": 21,
     "metadata": {},
     "output_type": "execute_result"
    }
   ],
   "source": [
    "X_train"
   ]
  },
  {
   "cell_type": "code",
   "execution_count": 22,
   "id": "a53e3712-8bb2-4275-a6ed-0917f5fa0b1a",
   "metadata": {},
   "outputs": [
    {
     "data": {
      "text/plain": [
       "array([[-0.84938054, -1.39282635,  1.27358436, ..., -0.48203214,\n",
       "        -0.35894691,  0.52287872],\n",
       "       [ 0.15943034, -1.0830671 , -0.32335267, ..., -0.48203214,\n",
       "        -0.35894691,  0.52287872],\n",
       "       [-1.26971841, -1.0830671 ,  1.27358436, ..., -0.48203214,\n",
       "        -0.35894691,  0.52287872],\n",
       "       ...,\n",
       "       [-0.51311025, -0.15378934, -0.32335267, ..., -0.48203214,\n",
       "        -0.35894691,  0.52287872],\n",
       "       [ 0.49570063,  0.15596991,  1.27358436, ..., -0.48203214,\n",
       "        -0.35894691,  0.52287872],\n",
       "       [ 0.07536277, -0.15378934, -1.92028969, ..., -0.48203214,\n",
       "        -0.35894691,  0.52287872]])"
      ]
     },
     "execution_count": 22,
     "metadata": {},
     "output_type": "execute_result"
    }
   ],
   "source": [
    "X_test"
   ]
  },
  {
   "cell_type": "code",
   "execution_count": 23,
   "id": "f7d75872-7e6f-4db1-ba51-42cb37c8adc3",
   "metadata": {},
   "outputs": [],
   "source": [
    "from sklearn.metrics import confusion_matrix\n",
    "from sklearn.metrics import classification_report"
   ]
  },
  {
   "cell_type": "code",
   "execution_count": 24,
   "id": "0dff57a1-7a24-4101-bdf4-97861ceb7ee7",
   "metadata": {},
   "outputs": [],
   "source": [
    "#create user define funtion\n",
    "def create_model(model):\n",
    "    model.fit(X_train,Y_train) #Train the model with 70% data\n",
    "    #Test the model with 30%\n",
    "    Y_pred=model.predict(X_test)\n",
    "    #print confusion matrix\n",
    "    print(confusion_matrix(Y_test,Y_pred))\n",
    "    #Generate classification report\n",
    "    print(classification_report(Y_test,Y_pred))\n",
    "    return model"
   ]
  },
  {
   "cell_type": "markdown",
   "id": "0019b6af-8ccc-4048-bba9-dd72329b6d1b",
   "metadata": {},
   "source": [
    "perform the model\n",
    "1).LogisticRegression "
   ]
  },
  {
   "cell_type": "code",
   "execution_count": 25,
   "id": "4590e250-2843-460f-818e-dd975aae3e3d",
   "metadata": {},
   "outputs": [],
   "source": [
    "#call Logisitic Regression inbuilt class\n",
    "from sklearn.linear_model import LogisticRegression\n",
    "#create the object of LogisticRegression class\n",
    "lor=LogisticRegression()"
   ]
  },
  {
   "cell_type": "code",
   "execution_count": 26,
   "id": "7ad487df-3783-4288-85d9-19faa092247d",
   "metadata": {},
   "outputs": [
    {
     "name": "stdout",
     "output_type": "stream",
     "text": [
      "[[1441  319]\n",
      " [ 359 1230]]\n",
      "              precision    recall  f1-score   support\n",
      "\n",
      "           0       0.80      0.82      0.81      1760\n",
      "           1       0.79      0.77      0.78      1589\n",
      "\n",
      "    accuracy                           0.80      3349\n",
      "   macro avg       0.80      0.80      0.80      3349\n",
      "weighted avg       0.80      0.80      0.80      3349\n",
      "\n"
     ]
    }
   ],
   "source": [
    "#call user defined funtion\n",
    "lr=create_model(lor)"
   ]
  },
  {
   "cell_type": "code",
   "execution_count": 27,
   "id": "ce21ac51-59c3-4527-bcd8-0a49ceab7413",
   "metadata": {},
   "outputs": [],
   "source": [
    "#Here recall score is important in this dataset \n",
    "#And recall score is 0.77 and Accurancy is 0.80 means 80%\n",
    "#Logistic regression \n"
   ]
  },
  {
   "cell_type": "markdown",
   "id": "710ca05e-e1e3-4ef4-823e-0310a964ac81",
   "metadata": {},
   "source": [
    "2) DecisionTreeClassifier\n"
   ]
  },
  {
   "cell_type": "code",
   "execution_count": 28,
   "id": "1248c448-f1d7-4e75-afce-ecf60fc43231",
   "metadata": {},
   "outputs": [],
   "source": [
    "#Call decisionTreeClassifier inbuilt class\n",
    "from sklearn.tree import DecisionTreeClassifier"
   ]
  },
  {
   "cell_type": "code",
   "execution_count": 29,
   "id": "6b1af72a-0d71-4716-987c-e7e420b8fb6f",
   "metadata": {},
   "outputs": [],
   "source": [
    "#create the object of DecisionTreeClassifier class\n",
    "dtc=DecisionTreeClassifier(random_state=1)\n",
    "#By default use method gini index"
   ]
  },
  {
   "cell_type": "code",
   "execution_count": 30,
   "id": "51360e19-660f-4f3d-b18d-76480351f940",
   "metadata": {},
   "outputs": [
    {
     "name": "stdout",
     "output_type": "stream",
     "text": [
      "[[1407  353]\n",
      " [ 372 1217]]\n",
      "              precision    recall  f1-score   support\n",
      "\n",
      "           0       0.79      0.80      0.80      1760\n",
      "           1       0.78      0.77      0.77      1589\n",
      "\n",
      "    accuracy                           0.78      3349\n",
      "   macro avg       0.78      0.78      0.78      3349\n",
      "weighted avg       0.78      0.78      0.78      3349\n",
      "\n"
     ]
    }
   ],
   "source": [
    "#call user defined funtion \n",
    "dtc=create_model(dtc)"
   ]
  },
  {
   "cell_type": "code",
   "execution_count": 31,
   "id": "e98653f5-861a-4ecf-bb72-a945669853b0",
   "metadata": {},
   "outputs": [],
   "source": [
    "# In the above report \n",
    "# recall score is 0.77 means 77% and Accuracy is 0.78 means 78%"
   ]
  },
  {
   "cell_type": "markdown",
   "id": "048a73da-9340-4eab-8321-d79212a27960",
   "metadata": {},
   "source": [
    "Puruning Technique Of DecsionTreeClassifier"
   ]
  },
  {
   "cell_type": "code",
   "execution_count": 32,
   "id": "76b83c82-4867-4894-898b-01b24e0cc831",
   "metadata": {},
   "outputs": [
    {
     "name": "stdout",
     "output_type": "stream",
     "text": [
      "[[1316  444]\n",
      " [ 228 1361]]\n",
      "              precision    recall  f1-score   support\n",
      "\n",
      "           0       0.85      0.75      0.80      1760\n",
      "           1       0.75      0.86      0.80      1589\n",
      "\n",
      "    accuracy                           0.80      3349\n",
      "   macro avg       0.80      0.80      0.80      3349\n",
      "weighted avg       0.81      0.80      0.80      3349\n",
      "\n"
     ]
    }
   ],
   "source": [
    "#max depth: inbuilt parameter of DecisionTreeClassifier\n",
    "#value of max_depth parameter for any dataset <=8\n",
    "#create the object of DecisionTreeClassifier and passing the prameter \n",
    "#of max_depth \n",
    "'''for i in range(1,9): #start=1 stop=9 step=+1\n",
    "    dtc=DecisionTreeClassifier(random_state=1,max_depth=i)\n",
    "    #i=1 then i=2 etc \n",
    "    #by default use method gini index\n",
    "    print(\"\\nMax_depth:\",i)\n",
    "    #call user defined function\n",
    "    dtc=create_model(dtc)'''\n",
    "#create the object of DecisionTreeClassifier class and \n",
    "#passing the parameter max_depth=5\n",
    "dtc=DecisionTreeClassifier(random_state=1,max_depth=5)\n",
    "#by default use gini index method\n",
    "#call user defined funtion\n",
    "dtc=create_model(dtc)\n",
    "\n",
    "\n"
   ]
  },
  {
   "cell_type": "code",
   "execution_count": 33,
   "id": "bbde09cb-39e5-4155-b958-b939777a9a28",
   "metadata": {},
   "outputs": [
    {
     "data": {
      "text/html": [
       "<div>\n",
       "<style scoped>\n",
       "    .dataframe tbody tr th:only-of-type {\n",
       "        vertical-align: middle;\n",
       "    }\n",
       "\n",
       "    .dataframe tbody tr th {\n",
       "        vertical-align: top;\n",
       "    }\n",
       "\n",
       "    .dataframe thead th {\n",
       "        text-align: right;\n",
       "    }\n",
       "</style>\n",
       "<table border=\"1\" class=\"dataframe\">\n",
       "  <thead>\n",
       "    <tr style=\"text-align: right;\">\n",
       "      <th></th>\n",
       "      <th>input columns</th>\n",
       "      <th>IG</th>\n",
       "    </tr>\n",
       "  </thead>\n",
       "  <tbody>\n",
       "    <tr>\n",
       "      <th>0</th>\n",
       "      <td>duration</td>\n",
       "      <td>0.576413</td>\n",
       "    </tr>\n",
       "    <tr>\n",
       "      <th>1</th>\n",
       "      <td>contact</td>\n",
       "      <td>0.119728</td>\n",
       "    </tr>\n",
       "    <tr>\n",
       "      <th>2</th>\n",
       "      <td>housing</td>\n",
       "      <td>0.066337</td>\n",
       "    </tr>\n",
       "    <tr>\n",
       "      <th>3</th>\n",
       "      <td>month</td>\n",
       "      <td>0.052438</td>\n",
       "    </tr>\n",
       "    <tr>\n",
       "      <th>4</th>\n",
       "      <td>poutcome</td>\n",
       "      <td>0.051127</td>\n",
       "    </tr>\n",
       "    <tr>\n",
       "      <th>5</th>\n",
       "      <td>pdays</td>\n",
       "      <td>0.050013</td>\n",
       "    </tr>\n",
       "    <tr>\n",
       "      <th>6</th>\n",
       "      <td>previous</td>\n",
       "      <td>0.044950</td>\n",
       "    </tr>\n",
       "    <tr>\n",
       "      <th>7</th>\n",
       "      <td>age</td>\n",
       "      <td>0.026846</td>\n",
       "    </tr>\n",
       "    <tr>\n",
       "      <th>8</th>\n",
       "      <td>loan</td>\n",
       "      <td>0.003762</td>\n",
       "    </tr>\n",
       "    <tr>\n",
       "      <th>9</th>\n",
       "      <td>day</td>\n",
       "      <td>0.003512</td>\n",
       "    </tr>\n",
       "    <tr>\n",
       "      <th>10</th>\n",
       "      <td>education</td>\n",
       "      <td>0.002853</td>\n",
       "    </tr>\n",
       "    <tr>\n",
       "      <th>11</th>\n",
       "      <td>balance</td>\n",
       "      <td>0.001040</td>\n",
       "    </tr>\n",
       "    <tr>\n",
       "      <th>12</th>\n",
       "      <td>campaign</td>\n",
       "      <td>0.000982</td>\n",
       "    </tr>\n",
       "    <tr>\n",
       "      <th>13</th>\n",
       "      <td>job</td>\n",
       "      <td>0.000000</td>\n",
       "    </tr>\n",
       "    <tr>\n",
       "      <th>14</th>\n",
       "      <td>marital</td>\n",
       "      <td>0.000000</td>\n",
       "    </tr>\n",
       "    <tr>\n",
       "      <th>15</th>\n",
       "      <td>default</td>\n",
       "      <td>0.000000</td>\n",
       "    </tr>\n",
       "  </tbody>\n",
       "</table>\n",
       "</div>"
      ],
      "text/plain": [
       "   input columns        IG\n",
       "0       duration  0.576413\n",
       "1        contact  0.119728\n",
       "2        housing  0.066337\n",
       "3          month  0.052438\n",
       "4       poutcome  0.051127\n",
       "5          pdays  0.050013\n",
       "6       previous  0.044950\n",
       "7            age  0.026846\n",
       "8           loan  0.003762\n",
       "9            day  0.003512\n",
       "10     education  0.002853\n",
       "11       balance  0.001040\n",
       "12      campaign  0.000982\n",
       "13           job  0.000000\n",
       "14       marital  0.000000\n",
       "15       default  0.000000"
      ]
     },
     "execution_count": 33,
     "metadata": {},
     "output_type": "execute_result"
    }
   ],
   "source": [
    "#create the dataframe with the help of dictionary\n",
    "dict={\"input columns\":X.columns,\"IG\":dtc.feature_importances_}\n",
    "#IG means information gain of each input\n",
    "df1=pd.DataFrame(dict)\n",
    "df1.sort_values(by=\"IG\",ascending=False,ignore_index=True)"
   ]
  },
  {
   "cell_type": "markdown",
   "id": "46ac9ce9-2aa2-4708-beba-bdb27fcbb790",
   "metadata": {},
   "source": [
    "In the above report of DecisionTreeClassifier using max_depth\n",
    "recall score is 0.86 means 86% and Accuracy=0.80 means 80%"
   ]
  },
  {
   "cell_type": "markdown",
   "id": "4562a201-2856-4b74-a79c-e51cf677d360",
   "metadata": {},
   "source": [
    "2) min_sample_leaf: Pruning technique"
   ]
  },
  {
   "cell_type": "code",
   "execution_count": 34,
   "id": "da0a33f2-bc96-45b5-b3aa-e6e93a5f5ca8",
   "metadata": {},
   "outputs": [
    {
     "name": "stdout",
     "output_type": "stream",
     "text": [
      "[[1379  381]\n",
      " [ 204 1385]]\n",
      "              precision    recall  f1-score   support\n",
      "\n",
      "           0       0.87      0.78      0.83      1760\n",
      "           1       0.78      0.87      0.83      1589\n",
      "\n",
      "    accuracy                           0.83      3349\n",
      "   macro avg       0.83      0.83      0.83      3349\n",
      "weighted avg       0.83      0.83      0.83      3349\n",
      "\n"
     ]
    }
   ],
   "source": [
    "#min_sample_leaf : Second pruning technique \n",
    "#min_sample_leaf>=45 and <=100 in any dataset of Classification \n",
    "'''for i in range(45,101): #i=45 i<=100 i=i+1\n",
    "    #create the object of DecisionTreeClassifier class and \n",
    "    #passing the parameter min_sample_leaf \n",
    "    #by default takes Gini index\n",
    "    dtc=DecisionTreeClassifier(random_state=1,min_samples_leaf=i)\n",
    "    print(\"\\nMin_sample_leaf:\",i)\n",
    "    #call user defined function\n",
    "    dtc=create_model(dtc)'''\n",
    "#create object of DecisionTreeClassifier class and \n",
    "#passing the parameter min_sample_leaf= 45\n",
    "dtc=DecisionTreeClassifier(random_state=1,min_samples_leaf=45)\n",
    "#by default use gini index method\n",
    "#call user defined funtion\n",
    "dtc=create_model(dtc)"
   ]
  },
  {
   "cell_type": "code",
   "execution_count": 35,
   "id": "41d3166b-e938-4651-b343-f14b0dbea487",
   "metadata": {},
   "outputs": [
    {
     "data": {
      "text/html": [
       "<div>\n",
       "<style scoped>\n",
       "    .dataframe tbody tr th:only-of-type {\n",
       "        vertical-align: middle;\n",
       "    }\n",
       "\n",
       "    .dataframe tbody tr th {\n",
       "        vertical-align: top;\n",
       "    }\n",
       "\n",
       "    .dataframe thead th {\n",
       "        text-align: right;\n",
       "    }\n",
       "</style>\n",
       "<table border=\"1\" class=\"dataframe\">\n",
       "  <thead>\n",
       "    <tr style=\"text-align: right;\">\n",
       "      <th></th>\n",
       "      <th>input columns</th>\n",
       "      <th>IG</th>\n",
       "    </tr>\n",
       "  </thead>\n",
       "  <tbody>\n",
       "    <tr>\n",
       "      <th>0</th>\n",
       "      <td>duration</td>\n",
       "      <td>0.496317</td>\n",
       "    </tr>\n",
       "    <tr>\n",
       "      <th>1</th>\n",
       "      <td>month</td>\n",
       "      <td>0.109126</td>\n",
       "    </tr>\n",
       "    <tr>\n",
       "      <th>2</th>\n",
       "      <td>contact</td>\n",
       "      <td>0.105357</td>\n",
       "    </tr>\n",
       "    <tr>\n",
       "      <th>3</th>\n",
       "      <td>housing</td>\n",
       "      <td>0.068329</td>\n",
       "    </tr>\n",
       "    <tr>\n",
       "      <th>4</th>\n",
       "      <td>poutcome</td>\n",
       "      <td>0.059375</td>\n",
       "    </tr>\n",
       "    <tr>\n",
       "      <th>5</th>\n",
       "      <td>pdays</td>\n",
       "      <td>0.044066</td>\n",
       "    </tr>\n",
       "    <tr>\n",
       "      <th>6</th>\n",
       "      <td>age</td>\n",
       "      <td>0.043918</td>\n",
       "    </tr>\n",
       "    <tr>\n",
       "      <th>7</th>\n",
       "      <td>previous</td>\n",
       "      <td>0.036294</td>\n",
       "    </tr>\n",
       "    <tr>\n",
       "      <th>8</th>\n",
       "      <td>balance</td>\n",
       "      <td>0.021749</td>\n",
       "    </tr>\n",
       "    <tr>\n",
       "      <th>9</th>\n",
       "      <td>day</td>\n",
       "      <td>0.005046</td>\n",
       "    </tr>\n",
       "    <tr>\n",
       "      <th>10</th>\n",
       "      <td>job</td>\n",
       "      <td>0.004888</td>\n",
       "    </tr>\n",
       "    <tr>\n",
       "      <th>11</th>\n",
       "      <td>loan</td>\n",
       "      <td>0.003143</td>\n",
       "    </tr>\n",
       "    <tr>\n",
       "      <th>12</th>\n",
       "      <td>education</td>\n",
       "      <td>0.001979</td>\n",
       "    </tr>\n",
       "    <tr>\n",
       "      <th>13</th>\n",
       "      <td>campaign</td>\n",
       "      <td>0.000412</td>\n",
       "    </tr>\n",
       "    <tr>\n",
       "      <th>14</th>\n",
       "      <td>marital</td>\n",
       "      <td>0.000000</td>\n",
       "    </tr>\n",
       "    <tr>\n",
       "      <th>15</th>\n",
       "      <td>default</td>\n",
       "      <td>0.000000</td>\n",
       "    </tr>\n",
       "  </tbody>\n",
       "</table>\n",
       "</div>"
      ],
      "text/plain": [
       "   input columns        IG\n",
       "0       duration  0.496317\n",
       "1          month  0.109126\n",
       "2        contact  0.105357\n",
       "3        housing  0.068329\n",
       "4       poutcome  0.059375\n",
       "5          pdays  0.044066\n",
       "6            age  0.043918\n",
       "7       previous  0.036294\n",
       "8        balance  0.021749\n",
       "9            day  0.005046\n",
       "10           job  0.004888\n",
       "11          loan  0.003143\n",
       "12     education  0.001979\n",
       "13      campaign  0.000412\n",
       "14       marital  0.000000\n",
       "15       default  0.000000"
      ]
     },
     "execution_count": 35,
     "metadata": {},
     "output_type": "execute_result"
    }
   ],
   "source": [
    "#create the dataframe with the help of dictionary\n",
    "dict={\"input columns\":X.columns,\"IG\":dtc.feature_importances_}\n",
    "#IG means information gain of each input\n",
    "df1=pd.DataFrame(dict)\n",
    "df1.sort_values(by=\"IG\",ascending=False,ignore_index=True)"
   ]
  },
  {
   "cell_type": "markdown",
   "id": "a750e5a6-9ac6-409d-bc1c-49c4b7eca81d",
   "metadata": {},
   "source": [
    "In the above report of DecisionTreeClassifier using min_sample_leaf parameter\n",
    "recall score is 0.87 means 87% and Accurancy=0.83 means 83%"
   ]
  },
  {
   "cell_type": "markdown",
   "id": "624b256d-e4d3-408c-abeb-8e974a9ca40d",
   "metadata": {},
   "source": [
    "#Entropy"
   ]
  },
  {
   "cell_type": "code",
   "execution_count": 36,
   "id": "38133512-3530-4b18-b364-0d0d759d8865",
   "metadata": {},
   "outputs": [],
   "source": [
    "#create the object of DecisionTreeClassifier class\n",
    "#criterion=Entropy\n",
    "dtc=DecisionTreeClassifier(random_state=1,criterion=\"entropy\")\n",
    "#By default use method gini index"
   ]
  },
  {
   "cell_type": "code",
   "execution_count": 37,
   "id": "3c08ee55-3b6d-4dec-b199-2b61b7757b66",
   "metadata": {},
   "outputs": [
    {
     "name": "stdout",
     "output_type": "stream",
     "text": [
      "[[1433  327]\n",
      " [ 394 1195]]\n",
      "              precision    recall  f1-score   support\n",
      "\n",
      "           0       0.78      0.81      0.80      1760\n",
      "           1       0.79      0.75      0.77      1589\n",
      "\n",
      "    accuracy                           0.78      3349\n",
      "   macro avg       0.78      0.78      0.78      3349\n",
      "weighted avg       0.78      0.78      0.78      3349\n",
      "\n"
     ]
    }
   ],
   "source": [
    "#call user defined funtion \n",
    "dtc=create_model(dtc)"
   ]
  },
  {
   "cell_type": "code",
   "execution_count": 38,
   "id": "e16954b4-f8a8-467c-bd17-3f5c879f4891",
   "metadata": {},
   "outputs": [
    {
     "data": {
      "text/html": [
       "<div>\n",
       "<style scoped>\n",
       "    .dataframe tbody tr th:only-of-type {\n",
       "        vertical-align: middle;\n",
       "    }\n",
       "\n",
       "    .dataframe tbody tr th {\n",
       "        vertical-align: top;\n",
       "    }\n",
       "\n",
       "    .dataframe thead th {\n",
       "        text-align: right;\n",
       "    }\n",
       "</style>\n",
       "<table border=\"1\" class=\"dataframe\">\n",
       "  <thead>\n",
       "    <tr style=\"text-align: right;\">\n",
       "      <th></th>\n",
       "      <th>Input columns</th>\n",
       "      <th>IG</th>\n",
       "    </tr>\n",
       "  </thead>\n",
       "  <tbody>\n",
       "    <tr>\n",
       "      <th>0</th>\n",
       "      <td>duration</td>\n",
       "      <td>0.311218</td>\n",
       "    </tr>\n",
       "    <tr>\n",
       "      <th>1</th>\n",
       "      <td>month</td>\n",
       "      <td>0.110721</td>\n",
       "    </tr>\n",
       "    <tr>\n",
       "      <th>2</th>\n",
       "      <td>balance</td>\n",
       "      <td>0.094507</td>\n",
       "    </tr>\n",
       "    <tr>\n",
       "      <th>3</th>\n",
       "      <td>day</td>\n",
       "      <td>0.090688</td>\n",
       "    </tr>\n",
       "    <tr>\n",
       "      <th>4</th>\n",
       "      <td>age</td>\n",
       "      <td>0.086951</td>\n",
       "    </tr>\n",
       "    <tr>\n",
       "      <th>5</th>\n",
       "      <td>contact</td>\n",
       "      <td>0.076067</td>\n",
       "    </tr>\n",
       "    <tr>\n",
       "      <th>6</th>\n",
       "      <td>pdays</td>\n",
       "      <td>0.046928</td>\n",
       "    </tr>\n",
       "    <tr>\n",
       "      <th>7</th>\n",
       "      <td>housing</td>\n",
       "      <td>0.032042</td>\n",
       "    </tr>\n",
       "    <tr>\n",
       "      <th>8</th>\n",
       "      <td>job</td>\n",
       "      <td>0.028838</td>\n",
       "    </tr>\n",
       "    <tr>\n",
       "      <th>9</th>\n",
       "      <td>campaign</td>\n",
       "      <td>0.027159</td>\n",
       "    </tr>\n",
       "    <tr>\n",
       "      <th>10</th>\n",
       "      <td>education</td>\n",
       "      <td>0.025337</td>\n",
       "    </tr>\n",
       "    <tr>\n",
       "      <th>11</th>\n",
       "      <td>poutcome</td>\n",
       "      <td>0.022520</td>\n",
       "    </tr>\n",
       "    <tr>\n",
       "      <th>12</th>\n",
       "      <td>previous</td>\n",
       "      <td>0.022261</td>\n",
       "    </tr>\n",
       "    <tr>\n",
       "      <th>13</th>\n",
       "      <td>marital</td>\n",
       "      <td>0.014123</td>\n",
       "    </tr>\n",
       "    <tr>\n",
       "      <th>14</th>\n",
       "      <td>loan</td>\n",
       "      <td>0.009852</td>\n",
       "    </tr>\n",
       "    <tr>\n",
       "      <th>15</th>\n",
       "      <td>default</td>\n",
       "      <td>0.000788</td>\n",
       "    </tr>\n",
       "  </tbody>\n",
       "</table>\n",
       "</div>"
      ],
      "text/plain": [
       "   Input columns        IG\n",
       "0       duration  0.311218\n",
       "1          month  0.110721\n",
       "2        balance  0.094507\n",
       "3            day  0.090688\n",
       "4            age  0.086951\n",
       "5        contact  0.076067\n",
       "6          pdays  0.046928\n",
       "7        housing  0.032042\n",
       "8            job  0.028838\n",
       "9       campaign  0.027159\n",
       "10     education  0.025337\n",
       "11      poutcome  0.022520\n",
       "12      previous  0.022261\n",
       "13       marital  0.014123\n",
       "14          loan  0.009852\n",
       "15       default  0.000788"
      ]
     },
     "execution_count": 38,
     "metadata": {},
     "output_type": "execute_result"
    }
   ],
   "source": [
    "#create the dataframe using dictionary \n",
    "dict={\"Input columns\":X.columns,\"IG\":dtc.feature_importances_}\n",
    "df1=pd.DataFrame(dict)\n",
    "df1.sort_values(by='IG',ascending=False,ignore_index=True)\n"
   ]
  },
  {
   "cell_type": "code",
   "execution_count": 39,
   "id": "a43bb246-c3b9-4d13-95a1-e3d4377b0206",
   "metadata": {},
   "outputs": [],
   "source": [
    "#"
   ]
  },
  {
   "cell_type": "code",
   "execution_count": 40,
   "id": "7e3603b7-69bc-4dbc-96ed-1dc26c29c8ea",
   "metadata": {},
   "outputs": [
    {
     "name": "stdout",
     "output_type": "stream",
     "text": [
      "[[1364  396]\n",
      " [ 298 1291]]\n",
      "              precision    recall  f1-score   support\n",
      "\n",
      "           0       0.82      0.78      0.80      1760\n",
      "           1       0.77      0.81      0.79      1589\n",
      "\n",
      "    accuracy                           0.79      3349\n",
      "   macro avg       0.79      0.79      0.79      3349\n",
      "weighted avg       0.79      0.79      0.79      3349\n",
      "\n"
     ]
    }
   ],
   "source": [
    "#max_depth: inbuilt parameter of DecisionTreeClassifier class\n",
    "#criterion=Entropy\n",
    "#create the object of DecisionTreeClassifier class and passing the parameter max_depth\n",
    "'''for i in range(1,9): #start=1 stop=9 step=+1\n",
    "    dtc=DecisionTreeClassifier(random_state=1,criterion=\"entropy\",max_depth=i)\n",
    "    #i=1 then i=2 etc\n",
    "    print(\"\\nMax_depth:\",i)\n",
    "    #call user defined funtion\n",
    "    dtc=create_model(dtc)'''\n",
    "#create the object of DecisionTreeCalssifier class and passing the parameter max_depth\n",
    "#criterion=Entropy\n",
    "dtc=DecisionTreeClassifier(random_state=1,criterion=\"entropy\",max_depth=6)\n",
    "#call user defined funtion\n",
    "dtc=create_model(dtc)\n"
   ]
  },
  {
   "cell_type": "code",
   "execution_count": 41,
   "id": "bdd5550a-a328-47ee-8d1a-493a6c67c163",
   "metadata": {},
   "outputs": [
    {
     "data": {
      "text/html": [
       "<div>\n",
       "<style scoped>\n",
       "    .dataframe tbody tr th:only-of-type {\n",
       "        vertical-align: middle;\n",
       "    }\n",
       "\n",
       "    .dataframe tbody tr th {\n",
       "        vertical-align: top;\n",
       "    }\n",
       "\n",
       "    .dataframe thead th {\n",
       "        text-align: right;\n",
       "    }\n",
       "</style>\n",
       "<table border=\"1\" class=\"dataframe\">\n",
       "  <thead>\n",
       "    <tr style=\"text-align: right;\">\n",
       "      <th></th>\n",
       "      <th>Input columns</th>\n",
       "      <th>IG</th>\n",
       "    </tr>\n",
       "  </thead>\n",
       "  <tbody>\n",
       "    <tr>\n",
       "      <th>0</th>\n",
       "      <td>duration</td>\n",
       "      <td>0.555667</td>\n",
       "    </tr>\n",
       "    <tr>\n",
       "      <th>1</th>\n",
       "      <td>contact</td>\n",
       "      <td>0.164393</td>\n",
       "    </tr>\n",
       "    <tr>\n",
       "      <th>2</th>\n",
       "      <td>month</td>\n",
       "      <td>0.068525</td>\n",
       "    </tr>\n",
       "    <tr>\n",
       "      <th>3</th>\n",
       "      <td>housing</td>\n",
       "      <td>0.065387</td>\n",
       "    </tr>\n",
       "    <tr>\n",
       "      <th>4</th>\n",
       "      <td>pdays</td>\n",
       "      <td>0.058998</td>\n",
       "    </tr>\n",
       "    <tr>\n",
       "      <th>5</th>\n",
       "      <td>poutcome</td>\n",
       "      <td>0.029351</td>\n",
       "    </tr>\n",
       "    <tr>\n",
       "      <th>6</th>\n",
       "      <td>age</td>\n",
       "      <td>0.027552</td>\n",
       "    </tr>\n",
       "    <tr>\n",
       "      <th>7</th>\n",
       "      <td>previous</td>\n",
       "      <td>0.015447</td>\n",
       "    </tr>\n",
       "    <tr>\n",
       "      <th>8</th>\n",
       "      <td>day</td>\n",
       "      <td>0.006827</td>\n",
       "    </tr>\n",
       "    <tr>\n",
       "      <th>9</th>\n",
       "      <td>loan</td>\n",
       "      <td>0.004597</td>\n",
       "    </tr>\n",
       "    <tr>\n",
       "      <th>10</th>\n",
       "      <td>campaign</td>\n",
       "      <td>0.002064</td>\n",
       "    </tr>\n",
       "    <tr>\n",
       "      <th>11</th>\n",
       "      <td>balance</td>\n",
       "      <td>0.001191</td>\n",
       "    </tr>\n",
       "    <tr>\n",
       "      <th>12</th>\n",
       "      <td>job</td>\n",
       "      <td>0.000000</td>\n",
       "    </tr>\n",
       "    <tr>\n",
       "      <th>13</th>\n",
       "      <td>marital</td>\n",
       "      <td>0.000000</td>\n",
       "    </tr>\n",
       "    <tr>\n",
       "      <th>14</th>\n",
       "      <td>education</td>\n",
       "      <td>0.000000</td>\n",
       "    </tr>\n",
       "    <tr>\n",
       "      <th>15</th>\n",
       "      <td>default</td>\n",
       "      <td>0.000000</td>\n",
       "    </tr>\n",
       "  </tbody>\n",
       "</table>\n",
       "</div>"
      ],
      "text/plain": [
       "   Input columns        IG\n",
       "0       duration  0.555667\n",
       "1        contact  0.164393\n",
       "2          month  0.068525\n",
       "3        housing  0.065387\n",
       "4          pdays  0.058998\n",
       "5       poutcome  0.029351\n",
       "6            age  0.027552\n",
       "7       previous  0.015447\n",
       "8            day  0.006827\n",
       "9           loan  0.004597\n",
       "10      campaign  0.002064\n",
       "11       balance  0.001191\n",
       "12           job  0.000000\n",
       "13       marital  0.000000\n",
       "14     education  0.000000\n",
       "15       default  0.000000"
      ]
     },
     "execution_count": 41,
     "metadata": {},
     "output_type": "execute_result"
    }
   ],
   "source": [
    "#create the dataframe using dictionary \n",
    "dict={\"Input columns\":X.columns,\"IG\":dtc.feature_importances_}\n",
    "df1=pd.DataFrame(dict)\n",
    "df1.sort_values(by='IG',ascending=False,ignore_index=True)\n"
   ]
  },
  {
   "cell_type": "markdown",
   "id": "27ce8420-1ed2-49a3-8b89-cd6bd5eb0d63",
   "metadata": {},
   "source": [
    "In the above report of DecisionTreeClassifier using max_depth parameter and \n",
    "criterion=Entropy\n",
    "recall score is 0.81 means 81% and Accuracy=0.79 means 79%"
   ]
  },
  {
   "cell_type": "markdown",
   "id": "1496575a-7ebe-4d4e-8c98-64565f9964ac",
   "metadata": {},
   "source": [
    "min_sample_leaf:"
   ]
  },
  {
   "cell_type": "code",
   "execution_count": 42,
   "id": "b7654f74-a727-4996-97db-29a7721a8a91",
   "metadata": {},
   "outputs": [
    {
     "name": "stdout",
     "output_type": "stream",
     "text": [
      "[[1395  365]\n",
      " [ 257 1332]]\n",
      "              precision    recall  f1-score   support\n",
      "\n",
      "           0       0.84      0.79      0.82      1760\n",
      "           1       0.78      0.84      0.81      1589\n",
      "\n",
      "    accuracy                           0.81      3349\n",
      "   macro avg       0.81      0.82      0.81      3349\n",
      "weighted avg       0.82      0.81      0.81      3349\n",
      "\n"
     ]
    }
   ],
   "source": [
    "#min_sample_leaf: inbuilt parameter of DecisionTreeClassfier class\n",
    "#criterion=entropy\n",
    "#create the object of DecisionTreeClassifier and \n",
    "#passing the parameter min_sample_leaf\n",
    "'''for i in range(45,101):\n",
    "    dtc=DecisionTreeClassifier(random_state=1,criterion='entropy',min_samples_leaf=i)\n",
    "    #i=1 then i=2 etc\n",
    "    print(\"\\nMin_samples_leaf\",i)\n",
    "    #call user defined funtion\n",
    "    dtc=create_model(dtc)'''\n",
    "#create the object of DecisionTreeclassifier and passing the parameter of min_leaf_samples\n",
    "#criterion=entropy\n",
    "dtc=DecisionTreeClassifier(random_state=1,criterion=\"entropy\",min_samples_leaf=80)\n",
    "#call the user defined funtion\n",
    "dtc=create_model(dtc)"
   ]
  },
  {
   "cell_type": "code",
   "execution_count": 43,
   "id": "3cdfdc5c-0f02-4289-8ea3-566350ddcb86",
   "metadata": {},
   "outputs": [
    {
     "data": {
      "text/html": [
       "<div>\n",
       "<style scoped>\n",
       "    .dataframe tbody tr th:only-of-type {\n",
       "        vertical-align: middle;\n",
       "    }\n",
       "\n",
       "    .dataframe tbody tr th {\n",
       "        vertical-align: top;\n",
       "    }\n",
       "\n",
       "    .dataframe thead th {\n",
       "        text-align: right;\n",
       "    }\n",
       "</style>\n",
       "<table border=\"1\" class=\"dataframe\">\n",
       "  <thead>\n",
       "    <tr style=\"text-align: right;\">\n",
       "      <th></th>\n",
       "      <th>Input columns</th>\n",
       "      <th>IG</th>\n",
       "    </tr>\n",
       "  </thead>\n",
       "  <tbody>\n",
       "    <tr>\n",
       "      <th>0</th>\n",
       "      <td>duration</td>\n",
       "      <td>0.539598</td>\n",
       "    </tr>\n",
       "    <tr>\n",
       "      <th>1</th>\n",
       "      <td>contact</td>\n",
       "      <td>0.153794</td>\n",
       "    </tr>\n",
       "    <tr>\n",
       "      <th>2</th>\n",
       "      <td>month</td>\n",
       "      <td>0.065982</td>\n",
       "    </tr>\n",
       "    <tr>\n",
       "      <th>3</th>\n",
       "      <td>housing</td>\n",
       "      <td>0.063696</td>\n",
       "    </tr>\n",
       "    <tr>\n",
       "      <th>4</th>\n",
       "      <td>pdays</td>\n",
       "      <td>0.049918</td>\n",
       "    </tr>\n",
       "    <tr>\n",
       "      <th>5</th>\n",
       "      <td>balance</td>\n",
       "      <td>0.035014</td>\n",
       "    </tr>\n",
       "    <tr>\n",
       "      <th>6</th>\n",
       "      <td>age</td>\n",
       "      <td>0.025494</td>\n",
       "    </tr>\n",
       "    <tr>\n",
       "      <th>7</th>\n",
       "      <td>poutcome</td>\n",
       "      <td>0.025088</td>\n",
       "    </tr>\n",
       "    <tr>\n",
       "      <th>8</th>\n",
       "      <td>previous</td>\n",
       "      <td>0.015017</td>\n",
       "    </tr>\n",
       "    <tr>\n",
       "      <th>9</th>\n",
       "      <td>campaign</td>\n",
       "      <td>0.012796</td>\n",
       "    </tr>\n",
       "    <tr>\n",
       "      <th>10</th>\n",
       "      <td>day</td>\n",
       "      <td>0.009426</td>\n",
       "    </tr>\n",
       "    <tr>\n",
       "      <th>11</th>\n",
       "      <td>education</td>\n",
       "      <td>0.003024</td>\n",
       "    </tr>\n",
       "    <tr>\n",
       "      <th>12</th>\n",
       "      <td>job</td>\n",
       "      <td>0.001152</td>\n",
       "    </tr>\n",
       "    <tr>\n",
       "      <th>13</th>\n",
       "      <td>marital</td>\n",
       "      <td>0.000000</td>\n",
       "    </tr>\n",
       "    <tr>\n",
       "      <th>14</th>\n",
       "      <td>default</td>\n",
       "      <td>0.000000</td>\n",
       "    </tr>\n",
       "    <tr>\n",
       "      <th>15</th>\n",
       "      <td>loan</td>\n",
       "      <td>0.000000</td>\n",
       "    </tr>\n",
       "  </tbody>\n",
       "</table>\n",
       "</div>"
      ],
      "text/plain": [
       "   Input columns        IG\n",
       "0       duration  0.539598\n",
       "1        contact  0.153794\n",
       "2          month  0.065982\n",
       "3        housing  0.063696\n",
       "4          pdays  0.049918\n",
       "5        balance  0.035014\n",
       "6            age  0.025494\n",
       "7       poutcome  0.025088\n",
       "8       previous  0.015017\n",
       "9       campaign  0.012796\n",
       "10           day  0.009426\n",
       "11     education  0.003024\n",
       "12           job  0.001152\n",
       "13       marital  0.000000\n",
       "14       default  0.000000\n",
       "15          loan  0.000000"
      ]
     },
     "execution_count": 43,
     "metadata": {},
     "output_type": "execute_result"
    }
   ],
   "source": [
    "#create the Dataframe using dictionary\n",
    "dict={\"Input columns\":X.columns,\"IG\":dtc.feature_importances_}\n",
    "df1=pd.DataFrame(dict)\n",
    "df1.sort_values(by=\"IG\",ascending=False,ignore_index=True)"
   ]
  },
  {
   "cell_type": "markdown",
   "id": "416a1faf-58bb-489f-ad43-cd0393c56a01",
   "metadata": {},
   "source": [
    "In the above report of DecisionTreeClassifier using Min_samples_leaf\n",
    "parameter \n",
    "recall score is 0.84 means 84% and Accuracy=0.81 means 81% "
   ]
  },
  {
   "cell_type": "markdown",
   "id": "09dd1ed6-cf66-4b07-96c6-524f7e16f91b",
   "metadata": {},
   "source": [
    "Ensembling Technique"
   ]
  },
  {
   "cell_type": "code",
   "execution_count": 44,
   "id": "85e7317e-9fda-4d54-a2de-0b36e683177f",
   "metadata": {},
   "outputs": [],
   "source": [
    "#Apply the Ensembling Technique\n",
    "#RandomForestTree(use Bagging):-\n",
    "from sklearn.ensemble import RandomForestClassifier\n"
   ]
  },
  {
   "cell_type": "code",
   "execution_count": 45,
   "id": "1df569a7-c9b1-4551-87ad-3a311d13f351",
   "metadata": {},
   "outputs": [
    {
     "name": "stdout",
     "output_type": "stream",
     "text": [
      "[[1435  325]\n",
      " [ 195 1394]]\n",
      "              precision    recall  f1-score   support\n",
      "\n",
      "           0       0.88      0.82      0.85      1760\n",
      "           1       0.81      0.88      0.84      1589\n",
      "\n",
      "    accuracy                           0.84      3349\n",
      "   macro avg       0.85      0.85      0.84      3349\n",
      "weighted avg       0.85      0.84      0.84      3349\n",
      "\n"
     ]
    }
   ],
   "source": [
    "#RandomForestClassifier inbuilt inner class\n",
    "#NO of Decisiontree>=10 and <=100\n",
    "#No. of Decisiontrees : use inbuit parameter n_estimators\n",
    "'''for i in range(10,101): \n",
    "    #create the object of RandomForestClassifier class\n",
    "    rfc=RandomForestClassifier(n_estimators=i,random_state=1)\n",
    "    print(\"NO of Estimators :\",i)\n",
    "    #call funtion\n",
    "    rfc=create_model(rfc)'''\n",
    "#Create the object of RandomForestClassifier class\n",
    "rfc=RandomForestClassifier(n_estimators=63,random_state=1)\n",
    "#call user defined funtion\n",
    "rfc=create_model(rfc)"
   ]
  },
  {
   "cell_type": "code",
   "execution_count": 46,
   "id": "c255e90a-44e4-4e34-af00-fbe8a4544755",
   "metadata": {},
   "outputs": [
    {
     "data": {
      "text/html": [
       "<div>\n",
       "<style scoped>\n",
       "    .dataframe tbody tr th:only-of-type {\n",
       "        vertical-align: middle;\n",
       "    }\n",
       "\n",
       "    .dataframe tbody tr th {\n",
       "        vertical-align: top;\n",
       "    }\n",
       "\n",
       "    .dataframe thead th {\n",
       "        text-align: right;\n",
       "    }\n",
       "</style>\n",
       "<table border=\"1\" class=\"dataframe\">\n",
       "  <thead>\n",
       "    <tr style=\"text-align: right;\">\n",
       "      <th></th>\n",
       "      <th>Input columns</th>\n",
       "      <th>IG</th>\n",
       "    </tr>\n",
       "  </thead>\n",
       "  <tbody>\n",
       "    <tr>\n",
       "      <th>0</th>\n",
       "      <td>duration</td>\n",
       "      <td>0.361383</td>\n",
       "    </tr>\n",
       "    <tr>\n",
       "      <th>1</th>\n",
       "      <td>balance</td>\n",
       "      <td>0.088449</td>\n",
       "    </tr>\n",
       "    <tr>\n",
       "      <th>2</th>\n",
       "      <td>age</td>\n",
       "      <td>0.087264</td>\n",
       "    </tr>\n",
       "    <tr>\n",
       "      <th>3</th>\n",
       "      <td>month</td>\n",
       "      <td>0.083603</td>\n",
       "    </tr>\n",
       "    <tr>\n",
       "      <th>4</th>\n",
       "      <td>day</td>\n",
       "      <td>0.071345</td>\n",
       "    </tr>\n",
       "    <tr>\n",
       "      <th>5</th>\n",
       "      <td>pdays</td>\n",
       "      <td>0.051342</td>\n",
       "    </tr>\n",
       "    <tr>\n",
       "      <th>6</th>\n",
       "      <td>job</td>\n",
       "      <td>0.039858</td>\n",
       "    </tr>\n",
       "    <tr>\n",
       "      <th>7</th>\n",
       "      <td>contact</td>\n",
       "      <td>0.039476</td>\n",
       "    </tr>\n",
       "    <tr>\n",
       "      <th>8</th>\n",
       "      <td>poutcome</td>\n",
       "      <td>0.038065</td>\n",
       "    </tr>\n",
       "    <tr>\n",
       "      <th>9</th>\n",
       "      <td>housing</td>\n",
       "      <td>0.033426</td>\n",
       "    </tr>\n",
       "    <tr>\n",
       "      <th>10</th>\n",
       "      <td>campaign</td>\n",
       "      <td>0.033241</td>\n",
       "    </tr>\n",
       "    <tr>\n",
       "      <th>11</th>\n",
       "      <td>education</td>\n",
       "      <td>0.022174</td>\n",
       "    </tr>\n",
       "    <tr>\n",
       "      <th>12</th>\n",
       "      <td>marital</td>\n",
       "      <td>0.019504</td>\n",
       "    </tr>\n",
       "    <tr>\n",
       "      <th>13</th>\n",
       "      <td>previous</td>\n",
       "      <td>0.019289</td>\n",
       "    </tr>\n",
       "    <tr>\n",
       "      <th>14</th>\n",
       "      <td>loan</td>\n",
       "      <td>0.010190</td>\n",
       "    </tr>\n",
       "    <tr>\n",
       "      <th>15</th>\n",
       "      <td>default</td>\n",
       "      <td>0.001390</td>\n",
       "    </tr>\n",
       "  </tbody>\n",
       "</table>\n",
       "</div>"
      ],
      "text/plain": [
       "   Input columns        IG\n",
       "0       duration  0.361383\n",
       "1        balance  0.088449\n",
       "2            age  0.087264\n",
       "3          month  0.083603\n",
       "4            day  0.071345\n",
       "5          pdays  0.051342\n",
       "6            job  0.039858\n",
       "7        contact  0.039476\n",
       "8       poutcome  0.038065\n",
       "9        housing  0.033426\n",
       "10      campaign  0.033241\n",
       "11     education  0.022174\n",
       "12       marital  0.019504\n",
       "13      previous  0.019289\n",
       "14          loan  0.010190\n",
       "15       default  0.001390"
      ]
     },
     "execution_count": 46,
     "metadata": {},
     "output_type": "execute_result"
    }
   ],
   "source": [
    "#create the dataframe with help of dictionary\n",
    "dict={'Input columns':X.columns,\"IG\":rfc.feature_importances_}\n",
    "#IG means information gain of each input\n",
    "df1=pd.DataFrame(dict)\n",
    "df1.sort_values(by=\"IG\",ascending=False,ignore_index=True)"
   ]
  },
  {
   "cell_type": "markdown",
   "id": "69b3b96d-a7bc-41b6-9f13-0bdd084c8550",
   "metadata": {},
   "source": [
    "In the above report of RandomForestTree Classifier \n",
    "recall score is 0.88 means 88% and Accuracy is 0.84 means 84%"
   ]
  },
  {
   "cell_type": "markdown",
   "id": "83d16a02-ba2b-4da9-a27c-acff6de9cd12",
   "metadata": {},
   "source": [
    "AdaBoostClassifier"
   ]
  },
  {
   "cell_type": "code",
   "execution_count": 47,
   "id": "b03fc2aa-53eb-489b-bbde-1d82d0aed386",
   "metadata": {},
   "outputs": [],
   "source": [
    "#Apply next Ensembling Technique \n",
    "#AdaBoostClassifier(boosting method)\n",
    "from sklearn.ensemble import AdaBoostClassifier"
   ]
  },
  {
   "cell_type": "code",
   "execution_count": 48,
   "id": "36baf975-8438-4120-88aa-4da790fa0760",
   "metadata": {},
   "outputs": [
    {
     "name": "stdout",
     "output_type": "stream",
     "text": [
      "[[1262  498]\n",
      " [ 310 1279]]\n",
      "              precision    recall  f1-score   support\n",
      "\n",
      "           0       0.80      0.72      0.76      1760\n",
      "           1       0.72      0.80      0.76      1589\n",
      "\n",
      "    accuracy                           0.76      3349\n",
      "   macro avg       0.76      0.76      0.76      3349\n",
      "weighted avg       0.76      0.76      0.76      3349\n",
      "\n"
     ]
    }
   ],
   "source": [
    "'''for i in range (1,17):\n",
    "    #create the object of AdaBoostClassifier and passing the value \n",
    "    #n_estimators=i\n",
    "    ada=AdaBoostClassifier(n_estimators=i,random_state=1)\n",
    "    print(\"NO of Estimators:\",i)\n",
    "    #Call the user defined funtion\n",
    "    ada=create_model(ada)'''\n",
    "#Create the object of AdaBoostClassifier passing the value n_estimators=3\n",
    "ada=AdaBoostClassifier(n_estimators=3,random_state=1)\n",
    "#call user defined funtion \n",
    "ada=create_model(ada)"
   ]
  },
  {
   "cell_type": "code",
   "execution_count": 49,
   "id": "2a802bc1-d396-4fed-9c07-440b783a1b7a",
   "metadata": {},
   "outputs": [
    {
     "data": {
      "text/html": [
       "<div>\n",
       "<style scoped>\n",
       "    .dataframe tbody tr th:only-of-type {\n",
       "        vertical-align: middle;\n",
       "    }\n",
       "\n",
       "    .dataframe tbody tr th {\n",
       "        vertical-align: top;\n",
       "    }\n",
       "\n",
       "    .dataframe thead th {\n",
       "        text-align: right;\n",
       "    }\n",
       "</style>\n",
       "<table border=\"1\" class=\"dataframe\">\n",
       "  <thead>\n",
       "    <tr style=\"text-align: right;\">\n",
       "      <th></th>\n",
       "      <th>input columns</th>\n",
       "      <th>IG</th>\n",
       "    </tr>\n",
       "  </thead>\n",
       "  <tbody>\n",
       "    <tr>\n",
       "      <th>0</th>\n",
       "      <td>duration</td>\n",
       "      <td>0.666667</td>\n",
       "    </tr>\n",
       "    <tr>\n",
       "      <th>1</th>\n",
       "      <td>contact</td>\n",
       "      <td>0.333333</td>\n",
       "    </tr>\n",
       "    <tr>\n",
       "      <th>2</th>\n",
       "      <td>age</td>\n",
       "      <td>0.000000</td>\n",
       "    </tr>\n",
       "    <tr>\n",
       "      <th>3</th>\n",
       "      <td>job</td>\n",
       "      <td>0.000000</td>\n",
       "    </tr>\n",
       "    <tr>\n",
       "      <th>4</th>\n",
       "      <td>marital</td>\n",
       "      <td>0.000000</td>\n",
       "    </tr>\n",
       "    <tr>\n",
       "      <th>5</th>\n",
       "      <td>education</td>\n",
       "      <td>0.000000</td>\n",
       "    </tr>\n",
       "    <tr>\n",
       "      <th>6</th>\n",
       "      <td>default</td>\n",
       "      <td>0.000000</td>\n",
       "    </tr>\n",
       "    <tr>\n",
       "      <th>7</th>\n",
       "      <td>balance</td>\n",
       "      <td>0.000000</td>\n",
       "    </tr>\n",
       "    <tr>\n",
       "      <th>8</th>\n",
       "      <td>housing</td>\n",
       "      <td>0.000000</td>\n",
       "    </tr>\n",
       "    <tr>\n",
       "      <th>9</th>\n",
       "      <td>loan</td>\n",
       "      <td>0.000000</td>\n",
       "    </tr>\n",
       "    <tr>\n",
       "      <th>10</th>\n",
       "      <td>day</td>\n",
       "      <td>0.000000</td>\n",
       "    </tr>\n",
       "    <tr>\n",
       "      <th>11</th>\n",
       "      <td>month</td>\n",
       "      <td>0.000000</td>\n",
       "    </tr>\n",
       "    <tr>\n",
       "      <th>12</th>\n",
       "      <td>campaign</td>\n",
       "      <td>0.000000</td>\n",
       "    </tr>\n",
       "    <tr>\n",
       "      <th>13</th>\n",
       "      <td>pdays</td>\n",
       "      <td>0.000000</td>\n",
       "    </tr>\n",
       "    <tr>\n",
       "      <th>14</th>\n",
       "      <td>previous</td>\n",
       "      <td>0.000000</td>\n",
       "    </tr>\n",
       "    <tr>\n",
       "      <th>15</th>\n",
       "      <td>poutcome</td>\n",
       "      <td>0.000000</td>\n",
       "    </tr>\n",
       "  </tbody>\n",
       "</table>\n",
       "</div>"
      ],
      "text/plain": [
       "   input columns        IG\n",
       "0       duration  0.666667\n",
       "1        contact  0.333333\n",
       "2            age  0.000000\n",
       "3            job  0.000000\n",
       "4        marital  0.000000\n",
       "5      education  0.000000\n",
       "6        default  0.000000\n",
       "7        balance  0.000000\n",
       "8        housing  0.000000\n",
       "9           loan  0.000000\n",
       "10           day  0.000000\n",
       "11         month  0.000000\n",
       "12      campaign  0.000000\n",
       "13         pdays  0.000000\n",
       "14      previous  0.000000\n",
       "15      poutcome  0.000000"
      ]
     },
     "execution_count": 49,
     "metadata": {},
     "output_type": "execute_result"
    }
   ],
   "source": [
    "#Create the dataframe with help of dictionary\n",
    "dict={\"input columns\":X.columns,\"IG\":ada.feature_importances_}\n",
    "#IG means information gain of each input\n",
    "df1=pd.DataFrame(dict)\n",
    "df1.sort_values(by='IG',ascending=False,ignore_index=True)"
   ]
  },
  {
   "cell_type": "markdown",
   "id": "91cebb1a-e983-48ba-8a3f-56a849ce3c47",
   "metadata": {},
   "source": [
    "In the above report of AdaBoostClassifier \n",
    "recall score is 0.80 means 80% and Accurancy=0.76 means 76%"
   ]
  },
  {
   "cell_type": "markdown",
   "id": "ef8500db-cce6-46e8-a979-20b678064672",
   "metadata": {},
   "source": [
    "Gradient Boosting(GB)"
   ]
  },
  {
   "cell_type": "code",
   "execution_count": 50,
   "id": "8c18aac6-9aba-4b80-b315-b12e1eedba86",
   "metadata": {},
   "outputs": [],
   "source": [
    "#Gradient Boosting\n",
    "#inbuilt class GradientBoostingClassifier(Boosting method)\n",
    "from sklearn.ensemble import GradientBoostingClassifier"
   ]
  },
  {
   "cell_type": "code",
   "execution_count": 51,
   "id": "f5224257-cb8b-4664-81ae-5ae203b6e9ac",
   "metadata": {},
   "outputs": [
    {
     "name": "stdout",
     "output_type": "stream",
     "text": [
      "[[1435  325]\n",
      " [ 230 1359]]\n",
      "              precision    recall  f1-score   support\n",
      "\n",
      "           0       0.86      0.82      0.84      1760\n",
      "           1       0.81      0.86      0.83      1589\n",
      "\n",
      "    accuracy                           0.83      3349\n",
      "   macro avg       0.83      0.84      0.83      3349\n",
      "weighted avg       0.84      0.83      0.83      3349\n",
      "\n"
     ]
    }
   ],
   "source": [
    "#GradientBoostClassifier(boosting method)\n",
    "#Focus on shortcomingerror\n",
    "'''for i in range(10,101):\n",
    "    #create the object GradientBoostingClassifier passing the value\n",
    "    gbc=GradientBoostingClassifier(n_estimators=i,random_state=1)\n",
    "    print(\"No of Estimators:\",i)\n",
    "    #Call the user defiend funtion\n",
    "    gbc=create_model(gbc)'''\n",
    "#create the object of GradientBoostClassifier and passing the value\n",
    "#n_estimators=71\n",
    "gbc=GradientBoostingClassifier(n_estimators=71,random_state=1)\n",
    "#call the user defiend funtion\n",
    "gbc=create_model(gbc)"
   ]
  },
  {
   "cell_type": "code",
   "execution_count": 52,
   "id": "1ec8aff1-a51c-4eb1-b03f-9196ff0f97f5",
   "metadata": {},
   "outputs": [
    {
     "data": {
      "text/html": [
       "<div>\n",
       "<style scoped>\n",
       "    .dataframe tbody tr th:only-of-type {\n",
       "        vertical-align: middle;\n",
       "    }\n",
       "\n",
       "    .dataframe tbody tr th {\n",
       "        vertical-align: top;\n",
       "    }\n",
       "\n",
       "    .dataframe thead th {\n",
       "        text-align: right;\n",
       "    }\n",
       "</style>\n",
       "<table border=\"1\" class=\"dataframe\">\n",
       "  <thead>\n",
       "    <tr style=\"text-align: right;\">\n",
       "      <th></th>\n",
       "      <th>Input columns</th>\n",
       "      <th>IG</th>\n",
       "    </tr>\n",
       "  </thead>\n",
       "  <tbody>\n",
       "    <tr>\n",
       "      <th>0</th>\n",
       "      <td>duration</td>\n",
       "      <td>0.535818</td>\n",
       "    </tr>\n",
       "    <tr>\n",
       "      <th>1</th>\n",
       "      <td>month</td>\n",
       "      <td>0.091202</td>\n",
       "    </tr>\n",
       "    <tr>\n",
       "      <th>2</th>\n",
       "      <td>pdays</td>\n",
       "      <td>0.089291</td>\n",
       "    </tr>\n",
       "    <tr>\n",
       "      <th>3</th>\n",
       "      <td>contact</td>\n",
       "      <td>0.084909</td>\n",
       "    </tr>\n",
       "    <tr>\n",
       "      <th>4</th>\n",
       "      <td>housing</td>\n",
       "      <td>0.061419</td>\n",
       "    </tr>\n",
       "    <tr>\n",
       "      <th>5</th>\n",
       "      <td>poutcome</td>\n",
       "      <td>0.046947</td>\n",
       "    </tr>\n",
       "    <tr>\n",
       "      <th>6</th>\n",
       "      <td>age</td>\n",
       "      <td>0.042501</td>\n",
       "    </tr>\n",
       "    <tr>\n",
       "      <th>7</th>\n",
       "      <td>balance</td>\n",
       "      <td>0.018041</td>\n",
       "    </tr>\n",
       "    <tr>\n",
       "      <th>8</th>\n",
       "      <td>day</td>\n",
       "      <td>0.009564</td>\n",
       "    </tr>\n",
       "    <tr>\n",
       "      <th>9</th>\n",
       "      <td>loan</td>\n",
       "      <td>0.006469</td>\n",
       "    </tr>\n",
       "    <tr>\n",
       "      <th>10</th>\n",
       "      <td>campaign</td>\n",
       "      <td>0.005308</td>\n",
       "    </tr>\n",
       "    <tr>\n",
       "      <th>11</th>\n",
       "      <td>education</td>\n",
       "      <td>0.004384</td>\n",
       "    </tr>\n",
       "    <tr>\n",
       "      <th>12</th>\n",
       "      <td>marital</td>\n",
       "      <td>0.002629</td>\n",
       "    </tr>\n",
       "    <tr>\n",
       "      <th>13</th>\n",
       "      <td>previous</td>\n",
       "      <td>0.001227</td>\n",
       "    </tr>\n",
       "    <tr>\n",
       "      <th>14</th>\n",
       "      <td>job</td>\n",
       "      <td>0.000291</td>\n",
       "    </tr>\n",
       "    <tr>\n",
       "      <th>15</th>\n",
       "      <td>default</td>\n",
       "      <td>0.000000</td>\n",
       "    </tr>\n",
       "  </tbody>\n",
       "</table>\n",
       "</div>"
      ],
      "text/plain": [
       "   Input columns        IG\n",
       "0       duration  0.535818\n",
       "1          month  0.091202\n",
       "2          pdays  0.089291\n",
       "3        contact  0.084909\n",
       "4        housing  0.061419\n",
       "5       poutcome  0.046947\n",
       "6            age  0.042501\n",
       "7        balance  0.018041\n",
       "8            day  0.009564\n",
       "9           loan  0.006469\n",
       "10      campaign  0.005308\n",
       "11     education  0.004384\n",
       "12       marital  0.002629\n",
       "13      previous  0.001227\n",
       "14           job  0.000291\n",
       "15       default  0.000000"
      ]
     },
     "execution_count": 52,
     "metadata": {},
     "output_type": "execute_result"
    }
   ],
   "source": [
    "#create the DataFrame using the dictionary\n",
    "dict={\"Input columns\":X.columns,\"IG\":gbc.feature_importances_}\n",
    "#IG means information gain of each input\n",
    "df1=pd.DataFrame(dict)\n",
    "df1.sort_values(by=\"IG\",ascending=False,ignore_index=True)\n"
   ]
  },
  {
   "cell_type": "markdown",
   "id": "1e0e0af6-21ff-4a75-9294-28ef9bd8b566",
   "metadata": {},
   "source": [
    "In the above report of GradientBoostingClassifier \n",
    "Recall score is 0.86 means 86% and Accuracy=0.83 means 83%"
   ]
  },
  {
   "cell_type": "markdown",
   "id": "953586f8-ec6b-4fe8-ab80-bda8953220e5",
   "metadata": {},
   "source": [
    "Extreme Gradient Boosting(XGB)"
   ]
  },
  {
   "cell_type": "code",
   "execution_count": 53,
   "id": "01bc436a-ee22-476c-b5b1-fda67bfed9fa",
   "metadata": {},
   "outputs": [],
   "source": [
    "#inbuilt class XGBclassifier--> define in inbuilt package xgboost of \n",
    "#first install xgboost package with the help of pip on your\n",
    "#system\n",
    "#!pip install xgboost"
   ]
  },
  {
   "cell_type": "code",
   "execution_count": 54,
   "id": "b677155d-5ccd-48d9-89a7-c67e41d61f58",
   "metadata": {},
   "outputs": [],
   "source": [
    "#call XGBClassifier class\n",
    "from xgboost import XGBClassifier"
   ]
  },
  {
   "cell_type": "code",
   "execution_count": 55,
   "id": "c39a71f8-2e8f-4e47-b91b-67e683bf3801",
   "metadata": {},
   "outputs": [
    {
     "name": "stdout",
     "output_type": "stream",
     "text": [
      "[[1459  301]\n",
      " [ 182 1407]]\n",
      "              precision    recall  f1-score   support\n",
      "\n",
      "           0       0.89      0.83      0.86      1760\n",
      "           1       0.82      0.89      0.85      1589\n",
      "\n",
      "    accuracy                           0.86      3349\n",
      "   macro avg       0.86      0.86      0.86      3349\n",
      "weighted avg       0.86      0.86      0.86      3349\n",
      "\n"
     ]
    }
   ],
   "source": [
    "#Call XGBclassifier class\n",
    "'''for i in range(10,101):\n",
    "    #create object xgb and passing the value of parameter\n",
    "    xgb=XGBClassifier(n_estimators=i,reg_alpha=1,random_state=1)\n",
    "    print(\"No of Estimators:\",i)\n",
    "    #cal the user defiend funtion\n",
    "    xgb=create_model(xgb)'''\n",
    "#create the object of XGBClassifier and passing the value of parameter\n",
    "#n_estimators=30\n",
    "xgb=XGBClassifier(n_estimators=30,reg_alpha=1,random_state=1)\n",
    "#call the user defined function\n",
    "xgb=create_model(xgb)"
   ]
  },
  {
   "cell_type": "code",
   "execution_count": 56,
   "id": "04f22e5d-95ca-4ceb-8e89-36b65d20aa85",
   "metadata": {},
   "outputs": [
    {
     "data": {
      "text/html": [
       "<div>\n",
       "<style scoped>\n",
       "    .dataframe tbody tr th:only-of-type {\n",
       "        vertical-align: middle;\n",
       "    }\n",
       "\n",
       "    .dataframe tbody tr th {\n",
       "        vertical-align: top;\n",
       "    }\n",
       "\n",
       "    .dataframe thead th {\n",
       "        text-align: right;\n",
       "    }\n",
       "</style>\n",
       "<table border=\"1\" class=\"dataframe\">\n",
       "  <thead>\n",
       "    <tr style=\"text-align: right;\">\n",
       "      <th></th>\n",
       "      <th>Input columns</th>\n",
       "      <th>IG</th>\n",
       "    </tr>\n",
       "  </thead>\n",
       "  <tbody>\n",
       "    <tr>\n",
       "      <th>0</th>\n",
       "      <td>contact</td>\n",
       "      <td>0.177038</td>\n",
       "    </tr>\n",
       "    <tr>\n",
       "      <th>1</th>\n",
       "      <td>duration</td>\n",
       "      <td>0.165594</td>\n",
       "    </tr>\n",
       "    <tr>\n",
       "      <th>2</th>\n",
       "      <td>poutcome</td>\n",
       "      <td>0.160197</td>\n",
       "    </tr>\n",
       "    <tr>\n",
       "      <th>3</th>\n",
       "      <td>housing</td>\n",
       "      <td>0.142993</td>\n",
       "    </tr>\n",
       "    <tr>\n",
       "      <th>4</th>\n",
       "      <td>pdays</td>\n",
       "      <td>0.066612</td>\n",
       "    </tr>\n",
       "    <tr>\n",
       "      <th>5</th>\n",
       "      <td>month</td>\n",
       "      <td>0.060707</td>\n",
       "    </tr>\n",
       "    <tr>\n",
       "      <th>6</th>\n",
       "      <td>loan</td>\n",
       "      <td>0.042467</td>\n",
       "    </tr>\n",
       "    <tr>\n",
       "      <th>7</th>\n",
       "      <td>age</td>\n",
       "      <td>0.031001</td>\n",
       "    </tr>\n",
       "    <tr>\n",
       "      <th>8</th>\n",
       "      <td>day</td>\n",
       "      <td>0.026262</td>\n",
       "    </tr>\n",
       "    <tr>\n",
       "      <th>9</th>\n",
       "      <td>campaign</td>\n",
       "      <td>0.024532</td>\n",
       "    </tr>\n",
       "    <tr>\n",
       "      <th>10</th>\n",
       "      <td>education</td>\n",
       "      <td>0.022548</td>\n",
       "    </tr>\n",
       "    <tr>\n",
       "      <th>11</th>\n",
       "      <td>marital</td>\n",
       "      <td>0.021163</td>\n",
       "    </tr>\n",
       "    <tr>\n",
       "      <th>12</th>\n",
       "      <td>balance</td>\n",
       "      <td>0.020297</td>\n",
       "    </tr>\n",
       "    <tr>\n",
       "      <th>13</th>\n",
       "      <td>job</td>\n",
       "      <td>0.014774</td>\n",
       "    </tr>\n",
       "    <tr>\n",
       "      <th>14</th>\n",
       "      <td>previous</td>\n",
       "      <td>0.013689</td>\n",
       "    </tr>\n",
       "    <tr>\n",
       "      <th>15</th>\n",
       "      <td>default</td>\n",
       "      <td>0.010127</td>\n",
       "    </tr>\n",
       "  </tbody>\n",
       "</table>\n",
       "</div>"
      ],
      "text/plain": [
       "   Input columns        IG\n",
       "0        contact  0.177038\n",
       "1       duration  0.165594\n",
       "2       poutcome  0.160197\n",
       "3        housing  0.142993\n",
       "4          pdays  0.066612\n",
       "5          month  0.060707\n",
       "6           loan  0.042467\n",
       "7            age  0.031001\n",
       "8            day  0.026262\n",
       "9       campaign  0.024532\n",
       "10     education  0.022548\n",
       "11       marital  0.021163\n",
       "12       balance  0.020297\n",
       "13           job  0.014774\n",
       "14      previous  0.013689\n",
       "15       default  0.010127"
      ]
     },
     "execution_count": 56,
     "metadata": {},
     "output_type": "execute_result"
    }
   ],
   "source": [
    "#create a dataframe with help of dictionary\n",
    "dict={\"Input columns\":X.columns,\"IG\":xgb.feature_importances_}\n",
    "#IG means information gain of each input\n",
    "df1=pd.DataFrame(dict)\n",
    "df1.sort_values(by=\"IG\",ascending=False,ignore_index=True)\n",
    "\n"
   ]
  },
  {
   "cell_type": "code",
   "execution_count": 57,
   "id": "be5ec10e-68eb-4ddd-ba7b-33234d966b6e",
   "metadata": {},
   "outputs": [],
   "source": [
    "#Best Recall Score =0.89 means 89% And Accurancy=0.86 means 86% \n",
    "#in XGBClassifier "
   ]
  },
  {
   "cell_type": "markdown",
   "id": "ee048cc4-f17a-4f76-9def-fb7e53f4efe2",
   "metadata": {},
   "source": [
    "SVM (Support Vector Machine)"
   ]
  },
  {
   "cell_type": "code",
   "execution_count": 58,
   "id": "d496595a-4210-463f-afd3-c70e11dc62b9",
   "metadata": {},
   "outputs": [],
   "source": [
    "##SVM: Support Vector Machine: It is 3rd Type Of Classification Algorithm.\n",
    "'''There are 3 Types Of Kernel Function:-\n",
    "1. Linear Kernel Function\n",
    "2. Polynomail kernel Function\n",
    "3. Radial Basis Kernel Function'''\n",
    "\n",
    "#Use Linear Kernel Function:-\n",
    "from sklearn.svm import LinearSVC"
   ]
  },
  {
   "cell_type": "code",
   "execution_count": 59,
   "id": "0fc53c43-eb2d-4d41-b72c-b414273fbc9b",
   "metadata": {},
   "outputs": [],
   "source": [
    "#Create Object Of LinearSVC Class\n",
    "svc=LinearSVC(random_state=1) #Hard Margin Bydefault"
   ]
  },
  {
   "cell_type": "code",
   "execution_count": 60,
   "id": "f9319f69-2df0-42c2-91a5-d38eb0eb797c",
   "metadata": {},
   "outputs": [
    {
     "name": "stdout",
     "output_type": "stream",
     "text": [
      "[[1444  316]\n",
      " [ 364 1225]]\n",
      "              precision    recall  f1-score   support\n",
      "\n",
      "           0       0.80      0.82      0.81      1760\n",
      "           1       0.79      0.77      0.78      1589\n",
      "\n",
      "    accuracy                           0.80      3349\n",
      "   macro avg       0.80      0.80      0.80      3349\n",
      "weighted avg       0.80      0.80      0.80      3349\n",
      "\n"
     ]
    }
   ],
   "source": [
    "#Call Function (User Defined Function)\n",
    "svc1=create_model(svc) #Hard margin bydefault "
   ]
  },
  {
   "cell_type": "code",
   "execution_count": 61,
   "id": "844cff7f-abba-4647-99f0-4b7361a43ce7",
   "metadata": {},
   "outputs": [],
   "source": [
    "#Here Score is Good but not Better \n",
    "#In the above report Recall score is = 0.77 means 77% and Accuracy is 0.80\n",
    "#We need to Add External Error on Tranining Time and this process soft margin "
   ]
  },
  {
   "cell_type": "code",
   "execution_count": 62,
   "id": "c20489e1-e3bb-4ce6-bf15-492124d94593",
   "metadata": {},
   "outputs": [],
   "source": [
    "#Create the object of Class LinearSVC\n",
    "svc1=LinearSVC(random_state=1,C=0.001)\n",
    "#C inbuild parameter of LinearSVC class and value of These parameter \n",
    "#between>0-1"
   ]
  },
  {
   "cell_type": "code",
   "execution_count": 63,
   "id": "70bd11c9-3d34-4172-95ac-54d87add2c48",
   "metadata": {},
   "outputs": [
    {
     "name": "stdout",
     "output_type": "stream",
     "text": [
      "[[1441  319]\n",
      " [ 364 1225]]\n",
      "              precision    recall  f1-score   support\n",
      "\n",
      "           0       0.80      0.82      0.81      1760\n",
      "           1       0.79      0.77      0.78      1589\n",
      "\n",
      "    accuracy                           0.80      3349\n",
      "   macro avg       0.80      0.79      0.80      3349\n",
      "weighted avg       0.80      0.80      0.80      3349\n",
      "\n"
     ]
    }
   ],
   "source": [
    "#Call the function (user defined functon)\n",
    "svc1=create_model(svc1)"
   ]
  },
  {
   "cell_type": "code",
   "execution_count": 64,
   "id": "c77d3142-1e0e-4968-8477-50d05b870004",
   "metadata": {},
   "outputs": [],
   "source": [
    "#No change In Score when Add External Error on Trainings Time \n",
    "#means Data is non-linear Data\n",
    "#Use Non_linear kernal function : 2. Polynomial Kernal Function"
   ]
  },
  {
   "cell_type": "code",
   "execution_count": 65,
   "id": "9761ebb6-e4fc-459b-88bb-59009a1a92c0",
   "metadata": {},
   "outputs": [],
   "source": [
    "#use Inbuild SVC Class for Non Linear Kernal Function: Polynomail Or radial Basis Kernel Function\n",
    "from sklearn.svm import SVC\n",
    "#use polynomial kernal funtion\n",
    "poly_svc=SVC(random_state=1)"
   ]
  },
  {
   "cell_type": "code",
   "execution_count": 66,
   "id": "a3402220-9e2e-4aa3-9ed1-1b9e0211d39a",
   "metadata": {},
   "outputs": [
    {
     "name": "stdout",
     "output_type": "stream",
     "text": [
      "[[1417  343]\n",
      " [ 311 1278]]\n",
      "              precision    recall  f1-score   support\n",
      "\n",
      "           0       0.82      0.81      0.81      1760\n",
      "           1       0.79      0.80      0.80      1589\n",
      "\n",
      "    accuracy                           0.80      3349\n",
      "   macro avg       0.80      0.80      0.80      3349\n",
      "weighted avg       0.81      0.80      0.80      3349\n",
      "\n"
     ]
    }
   ],
   "source": [
    "#Create Object of svc Class and Pass the parameter kernal=poly\n",
    "poly_svc=SVC(random_state=1,kernel=\"poly\")\n",
    "#call User_Defined Function\n",
    "poly_svc=create_model(poly_svc)"
   ]
  },
  {
   "cell_type": "code",
   "execution_count": 67,
   "id": "e15508dc-c736-4731-a4b2-126416cfe783",
   "metadata": {},
   "outputs": [],
   "source": [
    "#In the above report recall score is 0.80 means 80% and Accurancy=80%"
   ]
  },
  {
   "cell_type": "code",
   "execution_count": 68,
   "id": "fe340ba5-a2b0-427b-84d4-bb22447d466b",
   "metadata": {},
   "outputs": [
    {
     "name": "stdout",
     "output_type": "stream",
     "text": [
      "[[1407  353]\n",
      " [ 262 1327]]\n",
      "              precision    recall  f1-score   support\n",
      "\n",
      "           0       0.84      0.80      0.82      1760\n",
      "           1       0.79      0.84      0.81      1589\n",
      "\n",
      "    accuracy                           0.82      3349\n",
      "   macro avg       0.82      0.82      0.82      3349\n",
      "weighted avg       0.82      0.82      0.82      3349\n",
      "\n"
     ]
    }
   ],
   "source": [
    "#Create the Object of SVC for radial Basis \n",
    "svc_radial=SVC(random_state=1,kernel=\"rbf\")\n",
    "#rbf means Radial Basis Function\n",
    "#call User_defined funtion\n",
    "svc_radial=create_model(svc_radial)"
   ]
  },
  {
   "cell_type": "code",
   "execution_count": 69,
   "id": "7b7ac981-37aa-4acc-9275-c047ae2cc279",
   "metadata": {},
   "outputs": [],
   "source": [
    "#In the above report recall score is 0.84 means 84% and its Accurancy is 0.82 means 82%"
   ]
  },
  {
   "cell_type": "code",
   "execution_count": 70,
   "id": "e0a62617-c15d-42ef-9520-9370906ae83d",
   "metadata": {},
   "outputs": [],
   "source": [
    "#We have performed all the model to  predict the Score,Extreme Gradient Boosting(XGB) is the best alogorithm in this datset\n",
    "# bank_marketing best score of Recall is 0.89 and important features is contact,duration,poutcome,housing\n",
    "\n"
   ]
  },
  {
   "cell_type": "code",
   "execution_count": 71,
   "id": "d95c3550-5a95-4825-bb74-8f78bcf178f2",
   "metadata": {},
   "outputs": [],
   "source": [
    "#Save Model :-\n",
    "\"\"\"Use File Handling Of Python : Use Inbuilt Library Pickle\"\"\"\n",
    "import pickle"
   ]
  },
  {
   "cell_type": "code",
   "execution_count": 72,
   "id": "5e797f71-04aa-4c83-a14b-1f1acd9cc6f0",
   "metadata": {},
   "outputs": [
    {
     "data": {
      "text/plain": [
       "'C:\\\\Users\\\\mithil'"
      ]
     },
     "execution_count": 72,
     "metadata": {},
     "output_type": "execute_result"
    }
   ],
   "source": [
    "import os\n",
    "os.getcwd()"
   ]
  },
  {
   "cell_type": "code",
   "execution_count": 73,
   "id": "fe0bd64c-c433-4d4f-be75-dfa223ec39a5",
   "metadata": {},
   "outputs": [],
   "source": [
    "#To Open File In Write Binary\n",
    "file1=open(\"model.pkl\",\"wb\") #Model.pk : New File Which Store Object Of Algorithm Which Got Highest Score\n",
    "\n",
    "#To Open File In Write Binary For Scaling\n",
    "file2=open(\"scale.pkl\",\"wb\") #Scale.pkl : New File Which Store The Object Of Standard Scaler Class File1 On File2 both are temprory file\n",
    "#File3=Open(\"Label.pkl\",\"wb\") for label Encoder\n"
   ]
  },
  {
   "cell_type": "code",
   "execution_count": 74,
   "id": "c03f4f77-de91-4eab-b48c-246355fbacb9",
   "metadata": {},
   "outputs": [],
   "source": [
    "#sSave Object Of Algorithm (DecisionTreeClassifer) Class In Temp File file1\n",
    "pickle.dump(xgb,file1) #Syntax Pickle.Dump(Object Of Algorithm,temp file)\n",
    "#To cLose Temp File File1\n",
    "file1.close()"
   ]
  },
  {
   "cell_type": "code",
   "execution_count": 75,
   "id": "18c87f77-e2ae-4bbd-a552-a2c6b075941b",
   "metadata": {},
   "outputs": [],
   "source": [
    "pickle.dump(ss,file2) #Syntax Pickle.Dump(Object Of Algorithm,temp file)\n",
    "#To cLose Temp File File1\n",
    "file2.close()"
   ]
  },
  {
   "cell_type": "code",
   "execution_count": null,
   "id": "c9b7552c-dd5d-4ad7-9bc2-198a856eb62d",
   "metadata": {},
   "outputs": [],
   "source": []
  }
 ],
 "metadata": {
  "kernelspec": {
   "display_name": "Python 3 (ipykernel)",
   "language": "python",
   "name": "python3"
  },
  "language_info": {
   "codemirror_mode": {
    "name": "ipython",
    "version": 3
   },
   "file_extension": ".py",
   "mimetype": "text/x-python",
   "name": "python",
   "nbconvert_exporter": "python",
   "pygments_lexer": "ipython3",
   "version": "3.11.7"
  }
 },
 "nbformat": 4,
 "nbformat_minor": 5
}
